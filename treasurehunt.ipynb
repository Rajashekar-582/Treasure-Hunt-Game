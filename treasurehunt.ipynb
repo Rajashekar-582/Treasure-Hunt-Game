{
  "nbformat": 4,
  "nbformat_minor": 0,
  "metadata": {
    "colab": {
      "name": "treasurehunt.ipynb",
      "provenance": [],
      "authorship_tag": "ABX9TyP5w9vam2cR+gPy0jKdqbFP",
      "include_colab_link": true
    },
    "kernelspec": {
      "name": "python3",
      "display_name": "Python 3"
    },
    "language_info": {
      "name": "python"
    }
  },
  "cells": [
    {
      "cell_type": "markdown",
      "metadata": {
        "id": "view-in-github",
        "colab_type": "text"
      },
      "source": [
        "<a href=\"https://colab.research.google.com/github/Rajashekar-582/Rajashekar-582/blob/main/treasurehunt.ipynb\" target=\"_parent\"><img src=\"https://colab.research.google.com/assets/colab-badge.svg\" alt=\"Open In Colab\"/></a>"
      ]
    },
    {
      "cell_type": "code",
      "execution_count": null,
      "metadata": {
        "id": "ZtFKalddWC0K"
      },
      "outputs": [],
      "source": [
        "print('''\n",
        "*******************************************************************************\n",
        "          |                   |                  |                     |\n",
        " _________|________________.=\"\"_;=.______________|_____________________|_______\n",
        "|                   |  ,-\"_,=\"\"     `\"=.|                  |\n",
        "|___________________|__\"=._o`\"-._        `\"=.______________|___________________\n",
        "          |                `\"=._o`\"=._      _`\"=._                     |\n",
        " _________|_____________________:=._o \"=._.\"_.-=\"'\"=.__________________|_______\n",
        "|                   |    __.--\" , ; `\"=._o.\" ,-\"\"\"-._ \".   |\n",
        "|___________________|_._\"  ,. .` ` `` ,  `\"-._\"-._   \". '__|___________________\n",
        "          |           |o`\"=._` , \"` `; .\". ,  \"-._\"-._; ;              |\n",
        " _________|___________| ;`-.o`\"=._; .\" ` '`.\"\\` . \"-._ /_______________|_______\n",
        "|                   | |o;    `\"-.o`\"=._``  '` \" ,__.--o;   |\n",
        "|___________________|_| ;     (#) `-.o `\"=.`_.--\"_o.-; ;___|___________________\n",
        "____/______/______/___|o;._    \"      `\".o|o_.--\"    ;o;____/______/______/____\n",
        "/______/______/______/_\"=._o--._        ; | ;        ; ;/______/______/______/_\n",
        "____/______/______/______/__\"=._o--._   ;o|o;     _._;o;____/______/______/____\n",
        "/______/______/______/______/____\"=._o._; | ;_.--\"o.--\"_/______/______/______/_\n",
        "____/______/______/______/______/_____\"=.o|o_.--\"\"___/______/______/______/____\n",
        "/______/______/______/______/______/______/______/______/______/______/_____ /\n",
        "*******************************************************************************\n",
        "''')\n",
        "print(\"Welcome to Treasure Island....\")\n",
        "user=input(\"\\nPlease enter your name: \")\n",
        "print(f\"\\n{user}, Your mission is to find the treasure.\")\n",
        "choice1 = input('\\nYou\\'re at a cross road. Where do you want to go? Type \"left\" or \"right\" :  ').lower()\n",
        "if choice1 == \"left\":\n",
        "  choice2 = input('\\nYou\\'ve come to a lake. There is an island in the middle of the lake. \\nType \"wait\" to wait for a boat or Type \"swim\" to swim across :  ').lower()\n",
        "  if choice2 == \"wait\":\n",
        "    choice3 = input(\"\\nYou arrived at the island.....\\nThere is a house with 3 doors....\\nOne red, one yellow and one blue.\\n Which colour do you choose?: \").lower()\n",
        "    if choice3 == \"red\":\n",
        "      print(\"It's a room full of fire. Game Over.\")\n",
        "    elif choice3 == \"yellow\":\n",
        "      print(f\"\\nYou found the treasure! You Won {user}!\")\n",
        "    elif choice3 == \"blue\":\n",
        "      print(\"\\nYou enter a room of beasts. Game Over.\")\n",
        "    else:\n",
        "      print(\"\\nYou chose a door that doesn't exist. Game Over.\")\n",
        "  else:\n",
        "    print(\"\\nYou get attacked by an angry trout. Game Over.\")\n",
        "else:\n",
        "  print(\"\\nYou fell into a hole. Game Over.\")"
      ]
    }
  ]
}